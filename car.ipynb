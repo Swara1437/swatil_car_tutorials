{
  "nbformat": 4,
  "nbformat_minor": 0,
  "metadata": {
    "colab": {
      "provenance": []
    },
    "kernelspec": {
      "name": "python3",
      "display_name": "Python 3"
    },
    "language_info": {
      "name": "python"
    }
  },
  "cells": [
    {
      "cell_type": "code",
      "source": [
        "import streamlit as st\n",
        "import pandas as pd\n",
        "from sklearn.ensemble import RandomForestClassifier\n",
        "from sklearn.model_selection import train_test_split\n",
        "from sklearn.metrics import accuracy_score\n",
        "\n",
        "# App Title\n",
        "st.title(\"🚗 Car Evaluation Classifier using Random Forest & Streamlit\")\n",
        "st.write(\"Predict the car condition using Machine Learning based on various features.\")\n",
        "st.markdown(\"👩‍💻 *Made by:Namrata*\")\n",
        "\n",
        "# File uploader\n",
        "uploaded_file = st.file_uploader(\"📁 Upload your car.csv file\", type=['csv'])\n",
        "\n",
        "if uploaded_file is not None:\n",
        "    df = pd.read_csv(uploaded_file)\n",
        "\n",
        "    st.subheader(\"🔍 Dataset Preview\")\n",
        "    st.dataframe(df.head())\n",
        "\n",
        "    # Encoding categorical columns if needed\n",
        "    df_encoded = df.apply(lambda col: pd.factorize(col)[0])\n",
        "\n",
        "    # Splitting data\n",
        "    X = df_encoded.iloc[:, :-1]\n",
        "    y = df_encoded.iloc[:, -1]\n",
        "\n",
        "    X_train, X_test, y_train, y_test = train_test_split(X, y, test_size=0.2, random_state=42)\n",
        "\n",
        "    # Model\n",
        "    model = RandomForestClassifier()\n",
        "    model.fit(X_train, y_train)\n",
        "\n",
        "    # Accuracy\n",
        "    accuracy = model.score(X_test, y_test)\n",
        "    st.success(f\"🎯 Model Accuracy: {accuracy*100:.2f}%\")\n",
        "\n",
        "    # Prediction UI\n",
        "    st.subheader(\"🧪 Predict Car Condition\")\n",
        "\n",
        "    input_data = []\n",
        "    for column in df.columns[:-1]:\n",
        "        value = st.selectbox(f\"{column}\", df[column].unique())\n",
        "        input_data.append(value)\n",
        "\n",
        "    # Convert input to encoded form\n",
        "    input_encoded = [pd.Series(df[column].unique()).tolist().index(val) for column, val in zip(df.columns[:-1], input_data)]\n",
        "    prediction = model.predict([input_encoded])[0]\n",
        "\n",
        "    # Decode prediction\n",
        "    decoded_label = pd.Series(df[df.columns[-1]].unique())[prediction]\n",
        "    st.success(f\"✅ Predicted Condition: {decoded_label}\")\n",
        "\n",
        "    st.markdown(\"❤ *Made with love Namrata*\")\n",
        "else:\n",
        "    st.warning(\"⚠ Please upload the car.csv file to proceed.\")"
      ],
      "metadata": {
        "id": "PSQP2S4-N4Rb"
      },
      "execution_count": null,
      "outputs": []
    },
    {
      "cell_type": "code",
      "source": [],
      "metadata": {
        "id": "qAc19CYEKBIH"
      },
      "execution_count": null,
      "outputs": []
    }
  ]
}